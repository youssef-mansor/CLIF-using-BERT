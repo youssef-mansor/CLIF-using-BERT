{
 "cells": [
  {
   "cell_type": "code",
   "execution_count": 1,
   "id": "e9bdaee1",
   "metadata": {},
   "outputs": [],
   "source": [
    "import numpy as np\n",
    "from sklearn.feature_extraction.text import TfidfVectorizer, CountVectorizer\n",
    "from sklearn.decomposition import TruncatedSVD\n",
    "# from transformers import MarianMTModel, MarianTokenizer\n",
    "from transformers import AutoModelForSeq2SeqLM, AutoTokenizer, AutoModel\n"
   ]
  },
  {
   "cell_type": "code",
   "execution_count": 2,
   "id": "36932c34",
   "metadata": {},
   "outputs": [],
   "source": [
    "# Helper Functions\n",
    "\n",
    "# Cosine similarity between files\n",
    "def cosine_sim(a, b):\n",
    "    dot_product = np.dot(a, b)\n",
    "    norm_a = np.linalg.norm(a)\n",
    "    norm_b = np.linalg.norm(b)\n",
    "    return dot_product / (norm_a * norm_b)\n",
    "\n",
    "# Jaccard similarity between files\n",
    "def jaccard_sim(a, b):\n",
    "    intersection = len(set(a).intersection(set(b)))\n",
    "    union = len(set(a).union(set(b)))\n",
    "    return intersection / union\n",
    "\n",
    "# Dice similarity between files\n",
    "def dice_sim(a, b):\n",
    "    intersection = len(set(a).intersection(set(b)))\n",
    "    total = len(a) + len(b)\n",
    "    return (2 * intersection) / total\n",
    "\n",
    "# Overlap similarity between files\n",
    "def overlap_sim(a, b):\n",
    "    intersection = len(set(a).intersection(set(b)))\n",
    "    min_len = min(len(a), len(b))\n",
    "    return intersection / min_len\n",
    "\n",
    "def similarity_compute(lsi_en, lsi_tr, vecs_en, vecs_tr, n, m):\n",
    "    sim_cosine = np.zeros((n, m))\n",
    "    sim_jaccard = np.zeros((n, m))\n",
    "    sim_dice = np.zeros((n, m))\n",
    "    sim_overlap = np.zeros((n, m)) \n",
    "\n",
    "    for i in range(n):\n",
    "        for j in range(m):\n",
    "            sim_cosine[i][j] = cosine_sim(lsi_en[i], lsi_tr[j])\n",
    "            sim_jaccard[i][j] = jaccard_sim(vecs_en[i].toarray()[0], vecs_tr[j].toarray()[0])\n",
    "            sim_dice[i][j] = dice_sim(vecs_en[i].toarray()[0], vecs_tr[j].toarray()[0])\n",
    "            sim_overlap[i][j] = overlap_sim(vecs_en[i].toarray()[0], vecs_tr[j].toarray()[0])\n",
    "            # Print the similarity matrices\n",
    "    print(\"Cosine similarity:\\n\", sim_cosine)\n",
    "    print(\"Jaccard similarity:\\n\", sim_jaccard)\n",
    "    print(\"Dice similarity:\\n\", sim_dice)\n",
    "    print(\"Overlap similarity:\\n\", sim_overlap)\n",
    "\n",
    "            \n",
    "    return sim_cosine, sim_jaccard, sim_dice, sim_overlap\n",
    "\n",
    "def accur_calc(sim_cosine, sim_jaccard, sim_dice, sim_overlap):   \n",
    "    cosine_correct = 0\n",
    "    jaccard_correct = 0\n",
    "    dice_correct = 0\n",
    "    overlap_correct = 0\n",
    "\n",
    "    for i in range(len(queries_en)):\n",
    "      cosine_max_index = np.argmax(sim_cosine[i])\n",
    "      jaccard_max_index = np.argmax(sim_jaccard[i])\n",
    "      dice_max_index = np.argmax(sim_dice[i])\n",
    "      overlap_max_index = np.argmax(sim_overlap[i])\n",
    "      if cosine_max_index == i:\n",
    "        cosine_correct += 1\n",
    "      if jaccard_max_index == i:\n",
    "          jaccard_correct += 1\n",
    "      if dice_max_index == i:\n",
    "          dice_correct += 1\n",
    "      if overlap_max_index == i:\n",
    "          overlap_correct += 1\n",
    "\n",
    "    cosine_accuracy = cosine_correct / len(queries_en)\n",
    "    jaccard_accuracy = jaccard_correct / len(queries_en)\n",
    "    dice_accuracy = dice_correct / len(queries_en)\n",
    "    overlap_accuracy = overlap_correct / len(queries_en)\n",
    "    \n",
    "    print(f\"\\nAccuracy for cosine similarity: {cosine_accuracy}\")\n",
    "    print(f\"Accuracy for Jaccard similarity: {jaccard_accuracy}\")\n",
    "    print(f\"Accuracy for Dice similarity: {dice_accuracy}\")\n",
    "    print(f\"Accuracy for overlap similarity: {overlap_accuracy}\")\n",
    "    \n",
    "    return cosine_accuracy, jaccard_accuracy, dice_accuracy, overlap_accuracy"
   ]
  },
  {
   "cell_type": "markdown",
   "id": "e698253b",
   "metadata": {},
   "source": [
    "## Latent Semantic Indexing"
   ]
  },
  {
   "cell_type": "code",
   "execution_count": 3,
   "id": "03e064d7",
   "metadata": {},
   "outputs": [
    {
     "data": {
      "text/plain": [
       "['What is the capital of Argentina?',\n",
       " 'Who won the Nobel Prize for Literature in 2020?',\n",
       " 'What is the square root of 144?',\n",
       " 'How far is the moon from the Earth?',\n",
       " 'Who painted the Mona Lisa?']"
      ]
     },
     "execution_count": 3,
     "metadata": {},
     "output_type": "execute_result"
    }
   ],
   "source": [
    "with open('English_queries.txt', 'r') as file:\n",
    "    queries_en = [line.strip() for line in file.readlines()]\n",
    "    \n",
    "# Print First 5 queries out of the 142 queries\n",
    "queries_en[:5]"
   ]
  },
  {
   "cell_type": "code",
   "execution_count": 4,
   "id": "0e7f8af0",
   "metadata": {},
   "outputs": [
    {
     "data": {
      "text/plain": [
       "[\"Arjantin'in başkenti Buenos Aires'tir.\",\n",
       " \"2020 yılında Edebiyat Nobel Ödülü'nü Amerikalı şair Louise Glück kazanmıştır.\",\n",
       " \"144'ün karekökü 12'dir.\",\n",
       " \"Ay, Dünya'dan ortalama 384.400 kilometre uzaklıktadır.\",\n",
       " 'Mona Lisa tablosu, İtalyan Rönesans sanatçısı Leonardo da Vinci tarafından resmedilmiştir.']"
      ]
     },
     "execution_count": 4,
     "metadata": {},
     "output_type": "execute_result"
    }
   ],
   "source": [
    "with open('Turkish_doc.txt', 'r') as file:\n",
    "    doc_tr = [line.strip() for line in file.readlines()]\n",
    "    \n",
    "# Print First 5 queries out of the 142 queries\n",
    "doc_tr[:5]"
   ]
  },
  {
   "cell_type": "code",
   "execution_count": 5,
   "id": "e4dc4a99",
   "metadata": {},
   "outputs": [],
   "source": [
    "# Vectorizing using TfidVectorizer\n",
    "vectorizer = TfidfVectorizer()\n",
    "vecs_en = vectorizer.fit_transform(queries_en)\n",
    "vecs_tr = vectorizer.fit_transform(doc_tr)"
   ]
  },
  {
   "cell_type": "code",
   "execution_count": 6,
   "id": "23e96d07",
   "metadata": {},
   "outputs": [],
   "source": [
    "# Computing truncated SVD\n",
    "svd = TruncatedSVD(n_components=2)\n",
    "lsi_en = svd.fit_transform(vecs_en)\n",
    "lsi_tr = svd.fit_transform(vecs_tr)"
   ]
  },
  {
   "cell_type": "code",
   "execution_count": 7,
   "id": "915fcc82",
   "metadata": {},
   "outputs": [
    {
     "name": "stdout",
     "output_type": "stream",
     "text": [
      "Cosine similarity:\n",
      " [[ 0.84876483 -0.41676934  0.86188477 ...  0.89843829  0.90678397\n",
      "  -0.13513847]\n",
      " [ 0.43418936  0.94864387  0.41123492 ...  0.33968628  0.32138436\n",
      "   0.9996208 ]\n",
      " [ 0.97378132 -0.10205441  0.9792305  ...  0.99195387  0.99422226\n",
      "   0.19092341]\n",
      " ...\n",
      " [ 0.91538483  0.51550467  0.90489503 ...  0.86936107  0.85961498\n",
      "   0.74192151]\n",
      " [ 0.9443836  -0.20632559  0.95240936 ...  0.97308734  0.97737278\n",
      "   0.08640902]\n",
      " [ 0.87585982  0.58982699  0.8633569  ...  0.82185518  0.81065363\n",
      "   0.79872893]]\n",
      "Jaccard similarity:\n",
      " [[0.09090909 0.07692308 0.11111111 ... 0.0625     0.08333333 0.07692308]\n",
      " [0.08333333 0.07142857 0.1        ... 0.05882353 0.07692308 0.07142857]\n",
      " [0.1        0.08333333 0.125      ... 0.06666667 0.09090909 0.08333333]\n",
      " ...\n",
      " [0.08333333 0.07142857 0.1        ... 0.05882353 0.07692308 0.07142857]\n",
      " [0.08333333 0.07142857 0.1        ... 0.05882353 0.07692308 0.07142857]\n",
      " [0.08333333 0.07142857 0.1        ... 0.05882353 0.07692308 0.07142857]]\n",
      "Dice similarity:\n",
      " [[0.00235294 0.00235294 0.00235294 ... 0.00235294 0.00235294 0.00235294]\n",
      " [0.00235294 0.00235294 0.00235294 ... 0.00235294 0.00235294 0.00235294]\n",
      " [0.00235294 0.00235294 0.00235294 ... 0.00235294 0.00235294 0.00235294]\n",
      " ...\n",
      " [0.00235294 0.00235294 0.00235294 ... 0.00235294 0.00235294 0.00235294]\n",
      " [0.00235294 0.00235294 0.00235294 ... 0.00235294 0.00235294 0.00235294]\n",
      " [0.00235294 0.00235294 0.00235294 ... 0.00235294 0.00235294 0.00235294]]\n",
      "Overlap similarity:\n",
      " [[0.00392157 0.00392157 0.00392157 ... 0.00392157 0.00392157 0.00392157]\n",
      " [0.00392157 0.00392157 0.00392157 ... 0.00392157 0.00392157 0.00392157]\n",
      " [0.00392157 0.00392157 0.00392157 ... 0.00392157 0.00392157 0.00392157]\n",
      " ...\n",
      " [0.00392157 0.00392157 0.00392157 ... 0.00392157 0.00392157 0.00392157]\n",
      " [0.00392157 0.00392157 0.00392157 ... 0.00392157 0.00392157 0.00392157]\n",
      " [0.00392157 0.00392157 0.00392157 ... 0.00392157 0.00392157 0.00392157]]\n"
     ]
    }
   ],
   "source": [
    "# Compute the similarity matrix between the English and Turkish files using different similarity measures\n",
    "sim_cosine, sim_jaccard, sim_dice, sim_overlap = similarity_compute(lsi_en, \n",
    "                                                                    lsi_tr, \n",
    "                                                                    vecs_en, \n",
    "                                                                    vecs_tr, \n",
    "                                                                    len(queries_en), \n",
    "                                                                    len(doc_tr))"
   ]
  },
  {
   "cell_type": "code",
   "execution_count": 8,
   "id": "0e5bc211",
   "metadata": {},
   "outputs": [
    {
     "name": "stdout",
     "output_type": "stream",
     "text": [
      "\n",
      "Accuracy for cosine similarity: 0.007042253521126761\n",
      "Accuracy for Jaccard similarity: 0.007042253521126761\n",
      "Accuracy for Dice similarity: 0.007042253521126761\n",
      "Accuracy for overlap similarity: 0.007042253521126761\n"
     ]
    }
   ],
   "source": [
    "cosine_accuracy_lsi, jaccard_accuracy_lsi, dice_accuracy_lsi, overlap_accuracy_lsi = accur_calc(sim_cosine, sim_jaccard, sim_dice, sim_overlap)"
   ]
  },
  {
   "cell_type": "code",
   "execution_count": 9,
   "id": "5f825ec3",
   "metadata": {},
   "outputs": [
    {
     "name": "stdout",
     "output_type": "stream",
     "text": [
      "\n",
      "Accuracy for Average Similarity: 0.014084507042253521\n"
     ]
    }
   ],
   "source": [
    "avg_sim_sim = sim_cosine + sim_jaccard + sim_dice + sim_overlap\n",
    "avg_sim_correct = 0\n",
    "for i in range(len(queries_en)):\n",
    "  avg_sim_max_index = np.argmax(avg_sim_sim[i])\n",
    "  if avg_sim_max_index == i:\n",
    "    avg_sim_correct += 1\n",
    "\n",
    "avg_sim_accuracy_lsi = avg_sim_correct / len(queries_en)\n",
    "print(f\"\\nAccuracy for Average Similarity: {avg_sim_accuracy_lsi}\")"
   ]
  },
  {
   "cell_type": "markdown",
   "id": "cf75c45a",
   "metadata": {},
   "source": [
    "## Translation"
   ]
  },
  {
   "cell_type": "code",
   "execution_count": 10,
   "id": "e00f877f",
   "metadata": {},
   "outputs": [
    {
     "name": "stderr",
     "output_type": "stream",
     "text": [
      "/home/youssef/anaconda3/envs/d2l/lib/python3.9/site-packages/transformers/models/marian/tokenization_marian.py:175: UserWarning: Recommended: pip install sacremoses.\n",
      "  warnings.warn(\"Recommended: pip install sacremoses.\")\n",
      "/home/youssef/anaconda3/envs/d2l/lib/python3.9/site-packages/transformers/tokenization_utils_base.py:1601: FutureWarning: `clean_up_tokenization_spaces` was not set. It will be set to `True` by default. This behavior will be depracted in transformers v4.45, and will be then set to `False` by default. For more details check this issue: https://github.com/huggingface/transformers/issues/31884\n",
      "  warnings.warn(\n",
      "/home/youssef/anaconda3/envs/d2l/lib/python3.9/site-packages/torch/_utils.py:776: UserWarning: TypedStorage is deprecated. It will be removed in the future and UntypedStorage will be the only storage class. This should only matter to you if you are using storages directly.  To access UntypedStorage directly, use tensor.untyped_storage() instead of tensor.storage()\n",
      "  return self.fget.__get__(instance, owner)()\n"
     ]
    }
   ],
   "source": [
    "# Define the language model and tokenizer for translation\n",
    "model_name = \"Helsinki-NLP/opus-mt-tc-big-en-tr\"\n",
    "tokenizer = AutoTokenizer.from_pretrained(model_name)\n",
    "model = AutoModelForSeq2SeqLM.from_pretrained(model_name)"
   ]
  },
  {
   "cell_type": "code",
   "execution_count": 11,
   "id": "a7b734ca",
   "metadata": {},
   "outputs": [
    {
     "name": "stdout",
     "output_type": "stream",
     "text": [
      "English: Hello, how are you? I was wondering if you could lend me a pen\n",
      "Turkish: Merhaba, nasılsınız? Acaba bana bir kalem ödünç verebilir misiniz?\n"
     ]
    }
   ],
   "source": [
    "# Test the model\n",
    "def translate_en_to_tr(text):\n",
    "    inputs = tokenizer(text, return_tensors=\"pt\", padding=True)\n",
    "    translated = model.generate(**inputs)\n",
    "    return tokenizer.decode(translated[0], skip_special_tokens=True)\n",
    "\n",
    "# Example usage\n",
    "english_text = \"Hello, how are you? I was wondering if you could lend me a pen\"\n",
    "turkish_text = translate_en_to_tr(english_text)\n",
    "print(f\"English: {english_text}\")\n",
    "print(f\"Turkish: {turkish_text}\")"
   ]
  },
  {
   "cell_type": "code",
   "execution_count": 12,
   "id": "24813f29",
   "metadata": {},
   "outputs": [],
   "source": [
    "# Tranrslate the queries to Turkish\n",
    "queries_tr = []\n",
    "for query in queries_en:\n",
    "    input_ids = tokenizer.encode(query, return_tensors='pt')\n",
    "    translated = model.generate(input_ids=input_ids, num_beams=4, max_length=100, early_stopping=True)\n",
    "    translated_query = tokenizer.decode(translated[0], skip_special_tokens=True)\n",
    "    queries_tr.append(translated_query)"
   ]
  },
  {
   "cell_type": "code",
   "execution_count": 13,
   "id": "428ad393",
   "metadata": {},
   "outputs": [
    {
     "data": {
      "text/plain": [
       "[\"Arjantin'in başkenti neresidir?\",\n",
       " \"2020 yılında Nobel Edebiyat Ödülü'nü kim kazandı?\",\n",
       " \"144'ün karekökü nedir?\",\n",
       " \"Ay, Dünya'dan ne kadar uzakta?\",\n",
       " \"Mona Lisa'yı kim boyadı?\"]"
      ]
     },
     "execution_count": 13,
     "metadata": {},
     "output_type": "execute_result"
    }
   ],
   "source": [
    "# Print First 5 queries of 142\n",
    "queries_tr[:5]"
   ]
  },
  {
   "cell_type": "code",
   "execution_count": 14,
   "id": "0eb3c633",
   "metadata": {},
   "outputs": [],
   "source": [
    "# Vectorize the documents using the TfidfVectorizer\n",
    "vectorizer = TfidfVectorizer()\n",
    "vecs_trans = vectorizer.fit_transform(queries_tr)\n",
    "vecs_tr = vectorizer.fit_transform(doc_tr)\n",
    "\n",
    "# Compute the truncated SVD\n",
    "svd = TruncatedSVD(n_components=2)\n",
    "lsi_en = svd.fit_transform(vecs_trans)\n",
    "lsi_tr = svd.fit_transform(vecs_tr)"
   ]
  },
  {
   "cell_type": "code",
   "execution_count": 15,
   "id": "a715f3d2",
   "metadata": {},
   "outputs": [
    {
     "name": "stdout",
     "output_type": "stream",
     "text": [
      "Cosine similarity:\n",
      " [[ 0.91731075 -0.30634485  0.92413346 ...  0.95135581  0.9254611\n",
      "  -0.01826296]\n",
      " [ 0.57572566  0.87013556  0.5613392  ...  0.49441126  0.55844786\n",
      "   0.97540791]\n",
      " [ 0.39662283  0.95243643  0.3805091  ...  0.30648775  0.37727969\n",
      "   0.99986263]\n",
      " ...\n",
      " [ 0.28093698  0.98264107  0.26411094 ...  0.18732308  0.26074365\n",
      "   0.9943354 ]\n",
      " [ 0.78896945  0.68880456  0.778104   ...  0.72621215  0.77590733\n",
      "   0.86887524]\n",
      " [ 0.26766727  0.9851074   0.25077706 ...  0.17375082  0.24739746\n",
      "   0.9927741 ]]\n",
      "Jaccard similarity:\n",
      " [[0.09090909 0.07692308 0.11111111 ... 0.0625     0.08333333 0.07692308]\n",
      " [0.08333333 0.07142857 0.1        ... 0.05882353 0.07692308 0.07142857]\n",
      " [0.1        0.08333333 0.125      ... 0.06666667 0.09090909 0.08333333]\n",
      " ...\n",
      " [0.08333333 0.07142857 0.1        ... 0.05882353 0.07692308 0.07142857]\n",
      " [0.08333333 0.07142857 0.1        ... 0.05882353 0.07692308 0.07142857]\n",
      " [0.08333333 0.07142857 0.1        ... 0.05882353 0.07692308 0.07142857]]\n",
      "Dice similarity:\n",
      " [[0.00235294 0.00235294 0.00235294 ... 0.00235294 0.00235294 0.00235294]\n",
      " [0.00235294 0.00235294 0.00235294 ... 0.00235294 0.00235294 0.00235294]\n",
      " [0.00235294 0.00235294 0.00235294 ... 0.00235294 0.00235294 0.00235294]\n",
      " ...\n",
      " [0.00235294 0.00235294 0.00235294 ... 0.00235294 0.00235294 0.00235294]\n",
      " [0.00235294 0.00235294 0.00235294 ... 0.00235294 0.00235294 0.00235294]\n",
      " [0.00235294 0.00235294 0.00235294 ... 0.00235294 0.00235294 0.00235294]]\n",
      "Overlap similarity:\n",
      " [[0.00392157 0.00392157 0.00392157 ... 0.00392157 0.00392157 0.00392157]\n",
      " [0.00392157 0.00392157 0.00392157 ... 0.00392157 0.00392157 0.00392157]\n",
      " [0.00392157 0.00392157 0.00392157 ... 0.00392157 0.00392157 0.00392157]\n",
      " ...\n",
      " [0.00392157 0.00392157 0.00392157 ... 0.00392157 0.00392157 0.00392157]\n",
      " [0.00392157 0.00392157 0.00392157 ... 0.00392157 0.00392157 0.00392157]\n",
      " [0.00392157 0.00392157 0.00392157 ... 0.00392157 0.00392157 0.00392157]]\n"
     ]
    }
   ],
   "source": [
    "# Compute the similarity matrix between the English and Turkish documents using different similarity measures\n",
    "n = len(queries_tr)\n",
    "m = len(doc_tr)\n",
    "\n",
    "# Compute the similarity matrix between the English and Turkish files using different similarity measures\n",
    "sim_cosine, sim_jaccard, sim_dice, sim_overlap = similarity_compute(lsi_en, \n",
    "                                                                    lsi_tr, \n",
    "                                                                    vecs_en, \n",
    "                                                                    vecs_tr, \n",
    "                                                                    len(queries_en), \n",
    "                                                                    len(doc_tr))"
   ]
  },
  {
   "cell_type": "code",
   "execution_count": 16,
   "id": "cb61f8b2",
   "metadata": {},
   "outputs": [
    {
     "name": "stdout",
     "output_type": "stream",
     "text": [
      "\n",
      "Accuracy for cosine similarity: 0.007042253521126761\n",
      "Accuracy for Jaccard similarity: 0.007042253521126761\n",
      "Accuracy for Dice similarity: 0.007042253521126761\n",
      "Accuracy for overlap similarity: 0.007042253521126761\n"
     ]
    }
   ],
   "source": [
    "cosine_accuracy_trans, jaccard_accuracy_trans, dice_accuracy_trans, overlap_accuracy_trans = accur_calc(sim_cosine, sim_jaccard, sim_dice, sim_overlap)"
   ]
  },
  {
   "cell_type": "code",
   "execution_count": 17,
   "id": "01e5187f",
   "metadata": {},
   "outputs": [
    {
     "name": "stdout",
     "output_type": "stream",
     "text": [
      "\n",
      "Accuracy for Average Similarity: 0.0\n"
     ]
    }
   ],
   "source": [
    "avg_sim_sim = sim_cosine + sim_jaccard + sim_dice + sim_overlap\n",
    "avg_sim_correct = 0\n",
    "for i in range(n):\n",
    "  avg_sim_max_index = np.argmax(avg_sim_sim[i])\n",
    "  if avg_sim_max_index == i:\n",
    "    avg_sim_correct += 1\n",
    "\n",
    "avg_sim_accuracy_trans = avg_sim_correct / n\n",
    "print(f\"\\nAccuracy for Average Similarity: {avg_sim_accuracy_trans}\")"
   ]
  },
  {
   "cell_type": "markdown",
   "id": "d2d20690",
   "metadata": {},
   "source": [
    "## BERT"
   ]
  },
  {
   "cell_type": "code",
   "execution_count": 18,
   "id": "d8f08686",
   "metadata": {},
   "outputs": [
    {
     "name": "stderr",
     "output_type": "stream",
     "text": [
      "/home/youssef/anaconda3/envs/d2l/lib/python3.9/site-packages/transformers/tokenization_utils_base.py:1601: FutureWarning: `clean_up_tokenization_spaces` was not set. It will be set to `True` by default. This behavior will be depracted in transformers v4.45, and will be then set to `False` by default. For more details check this issue: https://github.com/huggingface/transformers/issues/31884\n",
      "  warnings.warn(\n"
     ]
    }
   ],
   "source": [
    "import torch\n",
    "import torch.nn.functional as F\n",
    "import numpy as np\n",
    "\n",
    "# Load the multilingual BERT model and tokenizer\n",
    "model = AutoModel.from_pretrained('bert-base-multilingual-cased')\n",
    "tokenizer = AutoTokenizer.from_pretrained('bert-base-multilingual-cased')"
   ]
  },
  {
   "cell_type": "code",
   "execution_count": 19,
   "id": "757bb416",
   "metadata": {},
   "outputs": [
    {
     "data": {
      "text/plain": [
       "['What is the capital of Argentina?',\n",
       " 'Who won the Nobel Prize for Literature in 2020?',\n",
       " 'What is the square root of 144?',\n",
       " 'How far is the moon from the Earth?',\n",
       " 'Who painted the Mona Lisa?']"
      ]
     },
     "execution_count": 19,
     "metadata": {},
     "output_type": "execute_result"
    }
   ],
   "source": [
    "with open('English_queries.txt', 'r') as file:\n",
    "    queries_en = [line.strip() for line in file.readlines()]\n",
    "    \n",
    "# Print First 5 queries out of the 142 queries\n",
    "queries_en[:5]"
   ]
  },
  {
   "cell_type": "code",
   "execution_count": 20,
   "id": "ff810831",
   "metadata": {},
   "outputs": [
    {
     "data": {
      "text/plain": [
       "[\"Arjantin'in başkenti Buenos Aires'tir.\",\n",
       " \"2020 yılında Edebiyat Nobel Ödülü'nü Amerikalı şair Louise Glück kazanmıştır.\",\n",
       " \"144'ün karekökü 12'dir.\",\n",
       " \"Ay, Dünya'dan ortalama 384.400 kilometre uzaklıktadır.\",\n",
       " 'Mona Lisa tablosu, İtalyan Rönesans sanatçısı Leonardo da Vinci tarafından resmedilmiştir.']"
      ]
     },
     "execution_count": 20,
     "metadata": {},
     "output_type": "execute_result"
    }
   ],
   "source": [
    "with open('Turkish_doc.txt', 'r') as file:\n",
    "    doc_tr = [line.strip() for line in file.readlines()]\n",
    "    \n",
    "# Print First 5 queries out of the 142 queries\n",
    "doc_tr[:5]"
   ]
  },
  {
   "cell_type": "code",
   "execution_count": 21,
   "id": "9c4538d3",
   "metadata": {},
   "outputs": [],
   "source": [
    "# Tokenize the queries and documents\n",
    "query_tokenized = [tokenizer.encode(q, add_special_tokens=True, return_tensors='pt') for q in queries_en]\n",
    "doc_tokenized = [tokenizer.encode(d, add_special_tokens=True, return_tensors='pt') for d in doc_tr]\n",
    "\n",
    "# Pass the tokenized queries and documents through the BERT model\n",
    "with torch.no_grad():\n",
    "    query_outputs = [model(q) for q in query_tokenized]\n",
    "    doc_outputs = [model(d) for d in doc_tokenized]\n",
    "\n",
    "# Get the last hidden states from the BERT model for the queries and documents\n",
    "query_last_hidden_states = [output.last_hidden_state for output in query_outputs]\n",
    "doc_last_hidden_states = [output.last_hidden_state for output in doc_outputs]"
   ]
  },
  {
   "cell_type": "code",
   "execution_count": 22,
   "id": "0f6fa614",
   "metadata": {
    "scrolled": true
   },
   "outputs": [
    {
     "name": "stdout",
     "output_type": "stream",
     "text": [
      "\n",
      "Cosine similarity matrix:\n",
      "[[0.41014716 0.21301624 0.22571528 ... 0.35549286 0.28788009 0.25055894]\n",
      " [0.35580808 0.46833876 0.25902098 ... 0.33931893 0.30688521 0.37672535]\n",
      " [0.23414864 0.1977652  0.34179178 ... 0.2495092  0.21359339 0.19601974]\n",
      " ...\n",
      " [0.37766799 0.26778281 0.22888169 ... 0.48322448 0.24198483 0.25283101]\n",
      " [0.2964443  0.25997657 0.22770256 ... 0.27712557 0.45987493 0.28375998]\n",
      " [0.25545752 0.34291452 0.18909612 ... 0.31485602 0.27553958 0.44337291]]\n",
      "\n",
      "Jaccard similarity matrix:\n",
      "[[0.         0.         0.         ... 0.         0.         0.        ]\n",
      " [0.         0.05555556 0.         ... 0.         0.         0.        ]\n",
      " [0.         0.         0.         ... 0.         0.         0.        ]\n",
      " ...\n",
      " [0.         0.         0.         ... 0.         0.         0.        ]\n",
      " [0.         0.         0.         ... 0.         0.         0.        ]\n",
      " [0.         0.         0.         ... 0.         0.         0.        ]]\n",
      "\n",
      "Dice similarity matrix:\n",
      "[[0.         0.         0.         ... 0.         0.         0.        ]\n",
      " [0.         0.10526316 0.         ... 0.         0.         0.        ]\n",
      " [0.         0.         0.         ... 0.         0.         0.        ]\n",
      " ...\n",
      " [0.         0.         0.         ... 0.         0.         0.        ]\n",
      " [0.         0.         0.         ... 0.         0.         0.        ]\n",
      " [0.         0.         0.         ... 0.         0.         0.        ]]\n",
      "\n",
      "Overlap similarity matrix:\n",
      "[[0.         0.         0.         ... 0.         0.         0.        ]\n",
      " [0.         0.11111111 0.         ... 0.         0.         0.        ]\n",
      " [0.         0.         0.         ... 0.         0.         0.        ]\n",
      " ...\n",
      " [0.         0.         0.         ... 0.         0.         0.        ]\n",
      " [0.         0.         0.         ... 0.         0.         0.        ]\n",
      " [0.         0.         0.         ... 0.         0.         0.        ]]\n"
     ]
    }
   ],
   "source": [
    "# Compute the cosine similarity matrix between the last hidden states of the queries and documents\n",
    "n = len(queries_en)\n",
    "m = len(doc_tr)\n",
    "\n",
    "cosine_similarity_matrix = np.zeros((n, m))\n",
    "for i in range(n):\n",
    "    for j in range(m):\n",
    "        cosine_similarity_matrix[i][j] = F.cosine_similarity(query_last_hidden_states[i].mean(dim=1), doc_last_hidden_states[j].mean(dim=1)).item()\n",
    "\n",
    "# Print the cosine similarity matrix\n",
    "print('\\nCosine similarity matrix:')\n",
    "print(cosine_similarity_matrix)\n",
    "\n",
    "# Compute the Jaccard similarity matrix between the queries and documents\n",
    "jaccard_similarity_matrix = np.zeros((n, m))\n",
    "for i in range(n):\n",
    "    query_text = queries_en[i].lower().split()\n",
    "    query_set = set(query_text)\n",
    "    for j in range(m):\n",
    "        doc_text = doc_tr[j].lower().split()\n",
    "        doc_set = set(doc_text)\n",
    "        jaccard_similarity_matrix[i][j] = len(query_set.intersection(doc_set)) / len(query_set.union(doc_set))\n",
    "\n",
    "# Print the Jaccard similarity matrix\n",
    "print('\\nJaccard similarity matrix:')\n",
    "print(jaccard_similarity_matrix)\n",
    "\n",
    "# Compute the Dice similarity matrix between the queries and documents\n",
    "dice_similarity_matrix = np.zeros((n, m))\n",
    "for i in range(n):\n",
    "    query_text = queries_en[i].lower().split()\n",
    "    query_set = set(query_text)\n",
    "    for j in range(m):\n",
    "        doc_text = doc_tr[j].lower().split()\n",
    "        doc_set = set(doc_text)\n",
    "        intersection = len(query_set.intersection(doc_set))\n",
    "        dice_similarity_matrix[i][j] = (2.0 * intersection) / (len(query_set) + len(doc_set))\n",
    "\n",
    "# Print the Dice similarity matrix\n",
    "print('\\nDice similarity matrix:')\n",
    "print(dice_similarity_matrix)\n",
    "\n",
    "# Compute the overlap similarity matrix between the queries and documents\n",
    "overlap_similarity_matrix = np.zeros((n, m))\n",
    "for i in range(n):\n",
    "    query_text = queries_en[i].lower().split()\n",
    "    query_set = set(query_text)\n",
    "    for j in range(m):\n",
    "        doc_text = doc_tr[j].lower().split()\n",
    "        doc_set = set(doc_text)\n",
    "        intersection = len(query_set.intersection(doc_set))\n",
    "        overlap_similarity_matrix[i][j] = intersection / len(query_set)\n",
    "\n",
    "# Print the overlap similarity matrix\n",
    "print('\\nOverlap similarity matrix:')\n",
    "print(overlap_similarity_matrix)"
   ]
  },
  {
   "cell_type": "code",
   "execution_count": 23,
   "id": "2fdf4d93",
   "metadata": {},
   "outputs": [
    {
     "name": "stdout",
     "output_type": "stream",
     "text": [
      "\n",
      "Accuracy for cosine similarity: 0.4647887323943662\n",
      "Accuracy for Jaccard similarity: 0.06338028169014084\n",
      "Accuracy for Dice similarity: 0.06338028169014084\n",
      "Accuracy for overlap similarity: 0.04929577464788732\n"
     ]
    }
   ],
   "source": [
    "cosine_accuracy_BERT, jaccard_accuracy_BERT, dice_accuracy_BERT, overlap_accuracy_BERT = accur_calc(cosine_similarity_matrix, \n",
    "           jaccard_similarity_matrix, \n",
    "           dice_similarity_matrix, \n",
    "           overlap_similarity_matrix)"
   ]
  },
  {
   "cell_type": "code",
   "execution_count": 24,
   "id": "a3c412f7",
   "metadata": {},
   "outputs": [],
   "source": [
    "avg_sim_metric = cosine_similarity_matrix + jaccard_similarity_matrix + dice_similarity_matrix + overlap_similarity_matrix"
   ]
  },
  {
   "cell_type": "code",
   "execution_count": 25,
   "id": "4cf7abb3",
   "metadata": {},
   "outputs": [
    {
     "name": "stdout",
     "output_type": "stream",
     "text": [
      "\n",
      "Accuracy for Average Similarity: 0.07746478873239436\n"
     ]
    }
   ],
   "source": [
    "avg_sim_correct = 0\n",
    "for i in range(n):\n",
    "  avg_sim_max_index = np.argmax(avg_sim_metric[i])\n",
    "  if avg_sim_max_index == i:\n",
    "    avg_sim_correct += 1\n",
    "\n",
    "avg_sim_accuracy_BERT = avg_sim_correct / n\n",
    "print(f\"\\nAccuracy for Average Similarity: {avg_sim_accuracy_BERT}\")"
   ]
  },
  {
   "cell_type": "code",
   "execution_count": 31,
   "id": "3b4b6319",
   "metadata": {},
   "outputs": [
    {
     "data": {
      "text/plain": [
       "0.4647887323943662"
      ]
     },
     "execution_count": 31,
     "metadata": {},
     "output_type": "execute_result"
    }
   ],
   "source": [
    "cosine_accuracy_BERT"
   ]
  },
  {
   "cell_type": "markdown",
   "id": "20f2abee",
   "metadata": {},
   "source": [
    "### Visualization"
   ]
  },
  {
   "cell_type": "code",
   "execution_count": 33,
   "id": "b2cd7317",
   "metadata": {},
   "outputs": [
    {
     "data": {
      "image/png": "[encoded data removed]",
      "text/plain": [
       "<Figure size 640x480 with 1 Axes>"
      ]
     },
     "metadata": {},
     "output_type": "display_data"
    }
   ],
   "source": [
    "import matplotlib.pyplot as plt\n",
    "import numpy as np\n",
    "\n",
    "# Define the data\n",
    "approaches = ['LSI', 'LSI with Translation', 'BERT']\n",
    "metrics = ['Cosine', 'Jaccard', 'Dice', 'Overlap', 'CSI']\n",
    "scores = np.array([[cosine_accuracy_lsi, jaccard_accuracy_lsi, dice_accuracy_lsi, overlap_accuracy_lsi, avg_sim_accuracy_lsi],\n",
    "                   [cosine_accuracy_trans, jaccard_accuracy_trans, dice_accuracy_trans, overlap_accuracy_trans, avg_sim_accuracy_trans],\n",
    "                   [cosine_accuracy_BERT, jaccard_accuracy_BERT, dice_accuracy_BERT, overlap_accuracy_BERT, avg_sim_accuracy_BERT]])\n",
    "\n",
    "# Set up the plot\n",
    "fig, ax = plt.subplots()\n",
    "\n",
    "# Add the data to the plot\n",
    "for i in range(len(approaches)):\n",
    "    ax.plot(metrics, scores[i], label=approaches[i])\n",
    "\n",
    "# Set the axis labels and legend\n",
    "ax.set_xlabel('Similarity Metrics')\n",
    "ax.set_ylabel('Similarity Scores')\n",
    "ax.legend()\n",
    "\n",
    "# Display the plot\n",
    "plt.show()"
   ]
  },
  {
   "cell_type": "code",
   "execution_count": 34,
   "id": "653c344c",
   "metadata": {},
   "outputs": [
    {
     "data": {
      "image/png": "[encoded data removed]",
      "text/plain": [
       "<Figure size 640x480 with 1 Axes>"
      ]
     },
     "metadata": {},
     "output_type": "display_data"
    }
   ],
   "source": [
    "# Set up the plot\n",
    "fig, ax = plt.subplots()\n",
    "\n",
    "# Add the data to the plot\n",
    "bar_width = 0.2\n",
    "x_positions = np.arange(len(metrics))\n",
    "for i in range(len(approaches)):\n",
    "    ax.bar(x_positions + i*bar_width, scores[i], bar_width, label=approaches[i])\n",
    "\n",
    "# Set the x-tick labels\n",
    "ax.set_xticks(x_positions + bar_width)\n",
    "ax.set_xticklabels(metrics)\n",
    "\n",
    "# Set the axis labels and legend\n",
    "ax.set_xlabel('Similarity Metrics')\n",
    "ax.set_ylabel('Similarity Scores')\n",
    "ax.legend()\n",
    "\n",
    "# Display the plot\n",
    "plt.show()"
   ]
  },
  {
   "cell_type": "code",
   "execution_count": null,
   "id": "645632ee",
   "metadata": {},
   "outputs": [],
   "source": []
  }
 ],
 "metadata": {
  "kernelspec": {
   "display_name": "d2l",
   "language": "python",
   "name": "d2l"
  },
  "language_info": {
   "codemirror_mode": {
    "name": "ipython",
    "version": 3
   },
   "file_extension": ".py",
   "mimetype": "text/x-python",
   "name": "python",
   "nbconvert_exporter": "python",
   "pygments_lexer": "ipython3",
   "version": "3.9.19"
  }
 },
 "nbformat": 4,
 "nbformat_minor": 5
}
